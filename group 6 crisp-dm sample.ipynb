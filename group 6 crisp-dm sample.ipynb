{
 "cells": [
  {
   "cell_type": "markdown",
   "id": "98bc0ff7-43d5-4475-bded-d61419fbc348",
   "metadata": {},
   "source": [
    "###We first start by importing the necessary packages"
   ]
  },
  {
   "cell_type": "code",
   "execution_count": 1,
   "id": "3cb442d6-21f8-41e9-848e-11fe21f92b10",
   "metadata": {},
   "outputs": [],
   "source": [
    "import pandas as pd\n",
    "import numpy as np\n",
    "import matplotlib.pyplot as plt\n",
    "import seaborn as sns"
   ]
  },
  {
   "cell_type": "markdown",
   "id": "fae4548d-5bca-4df8-8d28-b81ec09b1da0",
   "metadata": {},
   "source": [
    "###We then load up our CSV"
   ]
  },
  {
   "cell_type": "code",
   "execution_count": 2,
   "id": "9446c7c8-75e1-4842-8fb8-9f5215ccd0f3",
   "metadata": {},
   "outputs": [],
   "source": [
    "df = pd.read_csv('group 6 epl.csv')"
   ]
  },
  {
   "cell_type": "markdown",
   "id": "89028da9-60f1-48a8-ba90-db8a38d8a100",
   "metadata": {},
   "source": [
    "###The business case is to check to see liverpool's "
   ]
  },
  {
   "cell_type": "code",
   "execution_count": null,
   "id": "e4d3d263-3154-46a7-81b8-6efe4bb08f1d",
   "metadata": {},
   "outputs": [],
   "source": []
  }
 ],
 "metadata": {
  "kernelspec": {
   "display_name": "Python 3",
   "language": "python",
   "name": "python3"
  },
  "language_info": {
   "codemirror_mode": {
    "name": "ipython",
    "version": 3
   },
   "file_extension": ".py",
   "mimetype": "text/x-python",
   "name": "python",
   "nbconvert_exporter": "python",
   "pygments_lexer": "ipython3",
   "version": "3.12.4"
  }
 },
 "nbformat": 4,
 "nbformat_minor": 5
}
