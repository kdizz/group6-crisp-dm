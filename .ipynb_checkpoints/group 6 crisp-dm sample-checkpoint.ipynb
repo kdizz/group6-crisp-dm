{
 "cells": [
  {
   "cell_type": "markdown",
   "id": "98bc0ff7-43d5-4475-bded-d61419fbc348",
   "metadata": {},
   "source": [
    "###We first start by importing the necessary packages"
   ]
  },
  {
   "cell_type": "code",
   "execution_count": 41,
   "id": "3cb442d6-21f8-41e9-848e-11fe21f92b10",
   "metadata": {},
   "outputs": [],
   "source": [
    "import pandas as pd\n",
    "import numpy as np\n",
    "import matplotlib.pyplot as plt\n",
    "import seaborn as sns\n",
    "%matplotlib inline"
   ]
  },
  {
   "cell_type": "markdown",
   "id": "fae4548d-5bca-4df8-8d28-b81ec09b1da0",
   "metadata": {},
   "source": [
    "###We then load up our CSV"
   ]
  },
  {
   "cell_type": "code",
   "execution_count": 2,
   "id": "9446c7c8-75e1-4842-8fb8-9f5215ccd0f3",
   "metadata": {},
   "outputs": [],
   "source": [
    "df = pd.read_csv('group 6 epl.csv')"
   ]
  },
  {
   "cell_type": "markdown",
   "id": "89028da9-60f1-48a8-ba90-db8a38d8a100",
   "metadata": {},
   "source": [
    "###The business case is to check to see liverpool's performance at home vs away in the 2016/17 epl season"
   ]
  },
  {
   "cell_type": "markdown",
   "id": "a812554e-841e-4093-874d-8e15de240afb",
   "metadata": {},
   "source": [
    "We know would like to get some info on the columns"
   ]
  },
  {
   "cell_type": "code",
   "execution_count": 3,
   "id": "ba944857-4d38-4333-98c0-5912ccfbbf55",
   "metadata": {},
   "outputs": [
    {
     "name": "stdout",
     "output_type": "stream",
     "text": [
      "<class 'pandas.core.frame.DataFrame'>\n",
      "RangeIndex: 380 entries, 0 to 379\n",
      "Data columns (total 15 columns):\n",
      " #   Column            Non-Null Count  Dtype \n",
      "---  ------            --------------  ----- \n",
      " 0   Div               380 non-null    object\n",
      " 1   Date              380 non-null    object\n",
      " 2   HomeTeam          380 non-null    object\n",
      " 3   AwayTeam          380 non-null    object\n",
      " 4   FullTimeHomeGoal  380 non-null    int64 \n",
      " 5   FullTimeAwayGoal  380 non-null    int64 \n",
      " 6   FullTimeResult    380 non-null    object\n",
      " 7   HalfTimeHomeGoal  380 non-null    int64 \n",
      " 8   HalfTimeAwayGoal  380 non-null    int64 \n",
      " 9   HalfTimeResult    380 non-null    object\n",
      " 10  Referee           380 non-null    object\n",
      " 11  HomeShots         380 non-null    int64 \n",
      " 12  AwayShots         380 non-null    int64 \n",
      " 13  HomeShotsTarget   380 non-null    int64 \n",
      " 14  AwayShotsTarget   380 non-null    int64 \n",
      "dtypes: int64(8), object(7)\n",
      "memory usage: 44.7+ KB\n"
     ]
    }
   ],
   "source": [
    "df.info()"
   ]
  },
  {
   "cell_type": "markdown",
   "id": "a7716740-2f46-4e69-ab31-53e7c8c26103",
   "metadata": {},
   "source": [
    "We shall then filter out the games where liverpool played at home into a variable called home,\n",
    "then view the first 5 samples and check the number of games"
   ]
  },
  {
   "cell_type": "code",
   "execution_count": 4,
   "id": "4f0c0967-dbc7-417c-883b-f12c4e4ab46e",
   "metadata": {},
   "outputs": [
    {
     "name": "stdout",
     "output_type": "stream",
     "text": [
      "Liverpool played 19 games at home \n",
      " See the first five\n"
     ]
    },
    {
     "data": {
      "text/html": [
       "<div>\n",
       "<style scoped>\n",
       "    .dataframe tbody tr th:only-of-type {\n",
       "        vertical-align: middle;\n",
       "    }\n",
       "\n",
       "    .dataframe tbody tr th {\n",
       "        vertical-align: top;\n",
       "    }\n",
       "\n",
       "    .dataframe thead th {\n",
       "        text-align: right;\n",
       "    }\n",
       "</style>\n",
       "<table border=\"1\" class=\"dataframe\">\n",
       "  <thead>\n",
       "    <tr style=\"text-align: right;\">\n",
       "      <th></th>\n",
       "      <th>Div</th>\n",
       "      <th>Date</th>\n",
       "      <th>HomeTeam</th>\n",
       "      <th>AwayTeam</th>\n",
       "      <th>FullTimeHomeGoal</th>\n",
       "      <th>FullTimeAwayGoal</th>\n",
       "      <th>FullTimeResult</th>\n",
       "      <th>HalfTimeHomeGoal</th>\n",
       "      <th>HalfTimeAwayGoal</th>\n",
       "      <th>HalfTimeResult</th>\n",
       "      <th>Referee</th>\n",
       "      <th>HomeShots</th>\n",
       "      <th>AwayShots</th>\n",
       "      <th>HomeShotsTarget</th>\n",
       "      <th>AwayShotsTarget</th>\n",
       "    </tr>\n",
       "  </thead>\n",
       "  <tbody>\n",
       "    <tr>\n",
       "      <th>33</th>\n",
       "      <td>E0</td>\n",
       "      <td>10 09 2016</td>\n",
       "      <td>Liverpool</td>\n",
       "      <td>Leicester</td>\n",
       "      <td>4</td>\n",
       "      <td>1</td>\n",
       "      <td>H</td>\n",
       "      <td>2</td>\n",
       "      <td>1</td>\n",
       "      <td>H</td>\n",
       "      <td>C Pawson</td>\n",
       "      <td>17</td>\n",
       "      <td>12</td>\n",
       "      <td>11</td>\n",
       "      <td>3</td>\n",
       "    </tr>\n",
       "    <tr>\n",
       "      <th>52</th>\n",
       "      <td>E0</td>\n",
       "      <td>24 09 2016</td>\n",
       "      <td>Liverpool</td>\n",
       "      <td>Hull</td>\n",
       "      <td>5</td>\n",
       "      <td>1</td>\n",
       "      <td>H</td>\n",
       "      <td>3</td>\n",
       "      <td>0</td>\n",
       "      <td>H</td>\n",
       "      <td>A Marriner</td>\n",
       "      <td>32</td>\n",
       "      <td>2</td>\n",
       "      <td>12</td>\n",
       "      <td>1</td>\n",
       "    </tr>\n",
       "    <tr>\n",
       "      <th>79</th>\n",
       "      <td>E0</td>\n",
       "      <td>17 10 2016</td>\n",
       "      <td>Liverpool</td>\n",
       "      <td>Man United</td>\n",
       "      <td>0</td>\n",
       "      <td>0</td>\n",
       "      <td>D</td>\n",
       "      <td>0</td>\n",
       "      <td>0</td>\n",
       "      <td>D</td>\n",
       "      <td>A Taylor</td>\n",
       "      <td>9</td>\n",
       "      <td>7</td>\n",
       "      <td>3</td>\n",
       "      <td>1</td>\n",
       "    </tr>\n",
       "    <tr>\n",
       "      <th>85</th>\n",
       "      <td>E0</td>\n",
       "      <td>22 10 2016</td>\n",
       "      <td>Liverpool</td>\n",
       "      <td>West Brom</td>\n",
       "      <td>2</td>\n",
       "      <td>1</td>\n",
       "      <td>H</td>\n",
       "      <td>2</td>\n",
       "      <td>0</td>\n",
       "      <td>H</td>\n",
       "      <td>N Swarbrick</td>\n",
       "      <td>21</td>\n",
       "      <td>6</td>\n",
       "      <td>7</td>\n",
       "      <td>1</td>\n",
       "    </tr>\n",
       "    <tr>\n",
       "      <th>108</th>\n",
       "      <td>E0</td>\n",
       "      <td>6 11 2016</td>\n",
       "      <td>Liverpool</td>\n",
       "      <td>Watford</td>\n",
       "      <td>6</td>\n",
       "      <td>1</td>\n",
       "      <td>H</td>\n",
       "      <td>3</td>\n",
       "      <td>0</td>\n",
       "      <td>H</td>\n",
       "      <td>M Oliver</td>\n",
       "      <td>28</td>\n",
       "      <td>11</td>\n",
       "      <td>17</td>\n",
       "      <td>8</td>\n",
       "    </tr>\n",
       "  </tbody>\n",
       "</table>\n",
       "</div>"
      ],
      "text/plain": [
       "    Div        Date   HomeTeam    AwayTeam  FullTimeHomeGoal  \\\n",
       "33   E0  10 09 2016  Liverpool   Leicester                 4   \n",
       "52   E0  24 09 2016  Liverpool        Hull                 5   \n",
       "79   E0  17 10 2016  Liverpool  Man United                 0   \n",
       "85   E0  22 10 2016  Liverpool   West Brom                 2   \n",
       "108  E0   6 11 2016  Liverpool     Watford                 6   \n",
       "\n",
       "     FullTimeAwayGoal FullTimeResult  HalfTimeHomeGoal  HalfTimeAwayGoal  \\\n",
       "33                  1              H                 2                 1   \n",
       "52                  1              H                 3                 0   \n",
       "79                  0              D                 0                 0   \n",
       "85                  1              H                 2                 0   \n",
       "108                 1              H                 3                 0   \n",
       "\n",
       "    HalfTimeResult      Referee  HomeShots  AwayShots  HomeShotsTarget  \\\n",
       "33               H     C Pawson         17         12               11   \n",
       "52               H   A Marriner         32          2               12   \n",
       "79               D     A Taylor          9          7                3   \n",
       "85               H  N Swarbrick         21          6                7   \n",
       "108              H     M Oliver         28         11               17   \n",
       "\n",
       "     AwayShotsTarget  \n",
       "33                 3  \n",
       "52                 1  \n",
       "79                 1  \n",
       "85                 1  \n",
       "108                8  "
      ]
     },
     "execution_count": 4,
     "metadata": {},
     "output_type": "execute_result"
    }
   ],
   "source": [
    "home = df[df['HomeTeam']=='Liverpool']\n",
    "print(f'Liverpool played {len(home)} games at home \\n See the first five')\n",
    "home.head()"
   ]
  },
  {
   "cell_type": "markdown",
   "id": "d27c69db-7679-4cd2-9577-b4e69964ab72",
   "metadata": {},
   "source": [
    "###We shall also filter out Liverpool's away games into a variable called away"
   ]
  },
  {
   "cell_type": "code",
   "execution_count": 5,
   "id": "f6d89ad4-07f2-42e4-95b4-3dac0ad8469e",
   "metadata": {},
   "outputs": [
    {
     "name": "stdout",
     "output_type": "stream",
     "text": [
      "Liverpool played 19 games away \n",
      " See the first five\n"
     ]
    },
    {
     "data": {
      "text/html": [
       "<div>\n",
       "<style scoped>\n",
       "    .dataframe tbody tr th:only-of-type {\n",
       "        vertical-align: middle;\n",
       "    }\n",
       "\n",
       "    .dataframe tbody tr th {\n",
       "        vertical-align: top;\n",
       "    }\n",
       "\n",
       "    .dataframe thead th {\n",
       "        text-align: right;\n",
       "    }\n",
       "</style>\n",
       "<table border=\"1\" class=\"dataframe\">\n",
       "  <thead>\n",
       "    <tr style=\"text-align: right;\">\n",
       "      <th></th>\n",
       "      <th>Div</th>\n",
       "      <th>Date</th>\n",
       "      <th>HomeTeam</th>\n",
       "      <th>AwayTeam</th>\n",
       "      <th>FullTimeHomeGoal</th>\n",
       "      <th>FullTimeAwayGoal</th>\n",
       "      <th>FullTimeResult</th>\n",
       "      <th>HalfTimeHomeGoal</th>\n",
       "      <th>HalfTimeAwayGoal</th>\n",
       "      <th>HalfTimeResult</th>\n",
       "      <th>Referee</th>\n",
       "      <th>HomeShots</th>\n",
       "      <th>AwayShots</th>\n",
       "      <th>HomeShotsTarget</th>\n",
       "      <th>AwayShotsTarget</th>\n",
       "    </tr>\n",
       "  </thead>\n",
       "  <tbody>\n",
       "    <tr>\n",
       "      <th>7</th>\n",
       "      <td>E0</td>\n",
       "      <td>14 08 2016</td>\n",
       "      <td>Arsenal</td>\n",
       "      <td>Liverpool</td>\n",
       "      <td>3</td>\n",
       "      <td>4</td>\n",
       "      <td>A</td>\n",
       "      <td>1</td>\n",
       "      <td>1</td>\n",
       "      <td>D</td>\n",
       "      <td>M Oliver</td>\n",
       "      <td>9</td>\n",
       "      <td>16</td>\n",
       "      <td>5</td>\n",
       "      <td>7</td>\n",
       "    </tr>\n",
       "    <tr>\n",
       "      <th>11</th>\n",
       "      <td>E0</td>\n",
       "      <td>20 08 2016</td>\n",
       "      <td>Burnley</td>\n",
       "      <td>Liverpool</td>\n",
       "      <td>2</td>\n",
       "      <td>0</td>\n",
       "      <td>H</td>\n",
       "      <td>2</td>\n",
       "      <td>0</td>\n",
       "      <td>H</td>\n",
       "      <td>L Mason</td>\n",
       "      <td>3</td>\n",
       "      <td>26</td>\n",
       "      <td>2</td>\n",
       "      <td>5</td>\n",
       "    </tr>\n",
       "    <tr>\n",
       "      <th>26</th>\n",
       "      <td>E0</td>\n",
       "      <td>27 08 2016</td>\n",
       "      <td>Tottenham</td>\n",
       "      <td>Liverpool</td>\n",
       "      <td>1</td>\n",
       "      <td>1</td>\n",
       "      <td>D</td>\n",
       "      <td>0</td>\n",
       "      <td>1</td>\n",
       "      <td>A</td>\n",
       "      <td>R Madley</td>\n",
       "      <td>11</td>\n",
       "      <td>13</td>\n",
       "      <td>4</td>\n",
       "      <td>3</td>\n",
       "    </tr>\n",
       "    <tr>\n",
       "      <th>40</th>\n",
       "      <td>E0</td>\n",
       "      <td>16 09 2016</td>\n",
       "      <td>Chelsea</td>\n",
       "      <td>Liverpool</td>\n",
       "      <td>1</td>\n",
       "      <td>2</td>\n",
       "      <td>A</td>\n",
       "      <td>0</td>\n",
       "      <td>2</td>\n",
       "      <td>A</td>\n",
       "      <td>M Atkinson</td>\n",
       "      <td>12</td>\n",
       "      <td>13</td>\n",
       "      <td>4</td>\n",
       "      <td>5</td>\n",
       "    </tr>\n",
       "    <tr>\n",
       "      <th>63</th>\n",
       "      <td>E0</td>\n",
       "      <td>1 10 2016</td>\n",
       "      <td>Swansea</td>\n",
       "      <td>Liverpool</td>\n",
       "      <td>1</td>\n",
       "      <td>2</td>\n",
       "      <td>A</td>\n",
       "      <td>1</td>\n",
       "      <td>0</td>\n",
       "      <td>H</td>\n",
       "      <td>M Oliver</td>\n",
       "      <td>8</td>\n",
       "      <td>18</td>\n",
       "      <td>3</td>\n",
       "      <td>6</td>\n",
       "    </tr>\n",
       "  </tbody>\n",
       "</table>\n",
       "</div>"
      ],
      "text/plain": [
       "   Div        Date   HomeTeam   AwayTeam  FullTimeHomeGoal  FullTimeAwayGoal  \\\n",
       "7   E0  14 08 2016    Arsenal  Liverpool                 3                 4   \n",
       "11  E0  20 08 2016    Burnley  Liverpool                 2                 0   \n",
       "26  E0  27 08 2016  Tottenham  Liverpool                 1                 1   \n",
       "40  E0  16 09 2016    Chelsea  Liverpool                 1                 2   \n",
       "63  E0   1 10 2016    Swansea  Liverpool                 1                 2   \n",
       "\n",
       "   FullTimeResult  HalfTimeHomeGoal  HalfTimeAwayGoal HalfTimeResult  \\\n",
       "7               A                 1                 1              D   \n",
       "11              H                 2                 0              H   \n",
       "26              D                 0                 1              A   \n",
       "40              A                 0                 2              A   \n",
       "63              A                 1                 0              H   \n",
       "\n",
       "       Referee  HomeShots  AwayShots  HomeShotsTarget  AwayShotsTarget  \n",
       "7     M Oliver          9         16                5                7  \n",
       "11     L Mason          3         26                2                5  \n",
       "26    R Madley         11         13                4                3  \n",
       "40  M Atkinson         12         13                4                5  \n",
       "63    M Oliver          8         18                3                6  "
      ]
     },
     "execution_count": 5,
     "metadata": {},
     "output_type": "execute_result"
    }
   ],
   "source": [
    "away = df[df['AwayTeam']=='Liverpool']\n",
    "print(f'Liverpool played {len(away)} games away \\n See the first five')\n",
    "away.head()"
   ]
  },
  {
   "cell_type": "markdown",
   "id": "32af9043-585a-4b55-b35a-52b09a96b3e5",
   "metadata": {},
   "source": [
    "In total we have 38 games to analyze and work with. 19 Home, 19 Away."
   ]
  },
  {
   "cell_type": "markdown",
   "id": "4741f3ec-fa3e-4775-a480-75ea4a128a87",
   "metadata": {},
   "source": [
    "i. We shall perform an analysis on the fulltime goal performance throught the season (home and away) Daniel / Edith / Evelyn"
   ]
  },
  {
   "cell_type": "markdown",
   "id": "d4ac5353-5eed-4f7d-b7af-833b98cb4382",
   "metadata": {},
   "source": [
    "The total full time goals scored at home(Anfield) for the season both sides"
   ]
  },
  {
   "cell_type": "code",
   "execution_count": 104,
   "id": "f1a5c874-40fc-4864-ae6f-876adea46f70",
   "metadata": {},
   "outputs": [
    {
     "name": "stdout",
     "output_type": "stream",
     "text": [
      "While playing at Home (Anfield)\n",
      "\n",
      "Liverpool scored 45 goals.\n",
      "\n",
      "Opponents scored 18 goals.\n"
     ]
    }
   ],
   "source": [
    "#The function variables shall be entered as slices of the full time goal columns in the home df\n",
    "hg1 = home['FullTimeHomeGoal']\n",
    "hg2 = home['FullTimeAwayGoal']\n",
    "def ftscores(x,y):\n",
    "    a = x.sum()\n",
    "    b = y.sum()\n",
    "    print(f'Liverpool scored {a} goals.')\n",
    "    print(f'\\nOpponents scored {b} goals.')\n",
    "print('While playing at Home (Anfield)\\n')    \n",
    "ftscores(hg1,hg2)\n",
    "\n"
   ]
  },
  {
   "cell_type": "code",
   "execution_count": 7,
   "id": "d3e41c31-e61c-48d7-8663-5ead5d9179b7",
   "metadata": {},
   "outputs": [],
   "source": [
    "#Graphical Representation"
   ]
  },
  {
   "cell_type": "code",
   "execution_count": 115,
   "id": "906491f7-3a40-44c5-b881-6456ede63c43",
   "metadata": {},
   "outputs": [
    {
     "data": {
      "image/png": "[encoded data removed]",
      "text/plain": [
       "<Figure size 640x480 with 1 Axes>"
      ]
     },
     "metadata": {},
     "output_type": "display_data"
    }
   ],
   "source": [
    "plt.hist(hg1)\n",
    "plt.hist(hg2)\n",
    "plt.ylabel('Number of games')\n",
    "plt.xlabel('Number of goals')\n",
    "plt.show()\n",
    "\n",
    "\n",
    "\n"
   ]
  },
  {
   "cell_type": "code",
   "execution_count": null,
   "id": "2d3c9379-9889-4c06-8ad7-cb163fe964fe",
   "metadata": {},
   "outputs": [],
   "source": []
  },
  {
   "cell_type": "markdown",
   "id": "87cd1f73-9dc3-4abe-9d87-5dd55aca9889",
   "metadata": {},
   "source": [
    "The total full time goals scored away for the season both sides"
   ]
  },
  {
   "cell_type": "code",
   "execution_count": 65,
   "id": "c35d1cc0-7800-4750-a8b3-2e052eaf1807",
   "metadata": {},
   "outputs": [
    {
     "name": "stdout",
     "output_type": "stream",
     "text": [
      "While playing away\n",
      "\n",
      "Opponents scored 24 goals.\n",
      "\n",
      "Liverpool scored 33 goals.\n"
     ]
    }
   ],
   "source": [
    "#The function variables shall be entered as slices of the full time goal columns in the away df\n",
    "ag1 = away['FullTimeHomeGoal']\n",
    "ag2 = away['FullTimeAwayGoal']\n",
    "def ftscores(x,y):\n",
    "    a = x.sum()\n",
    "    b = y.sum()\n",
    "    print(f'Opponents scored {a} goals.')\n",
    "    print(f'\\nLiverpool scored {b} goals.')\n",
    "print('While playing away\\n')    \n",
    "ftscores(ag1,ag2)"
   ]
  },
  {
   "cell_type": "code",
   "execution_count": 9,
   "id": "5f3ad871-c10f-4924-a20b-96c3e209f011",
   "metadata": {},
   "outputs": [],
   "source": [
    "#Graphical representation"
   ]
  },
  {
   "cell_type": "code",
   "execution_count": null,
   "id": "d4830608-6fb9-48cc-8aa9-accd81e42f98",
   "metadata": {},
   "outputs": [],
   "source": []
  },
  {
   "cell_type": "code",
   "execution_count": 10,
   "id": "43a651bb-d7bd-4184-a83b-0d9d8e2b0f3a",
   "metadata": {},
   "outputs": [],
   "source": [
    "#Comparison representation."
   ]
  },
  {
   "cell_type": "code",
   "execution_count": null,
   "id": "539f8406-1e20-4d94-a126-a312acff4b7c",
   "metadata": {},
   "outputs": [],
   "source": []
  },
  {
   "cell_type": "markdown",
   "id": "4632cd01-c7b8-49e5-94f7-f3c2cb561f05",
   "metadata": {},
   "source": [
    "ii. We shall perform an analysis on the half time scores through out the season (home and away) Daniel / Edith / Evelyn"
   ]
  },
  {
   "cell_type": "code",
   "execution_count": 68,
   "id": "1ff5962a-05de-49e2-8a64-8640c4d70b6c",
   "metadata": {},
   "outputs": [
    {
     "name": "stdout",
     "output_type": "stream",
     "text": [
      "By halftime, while playing at Home(Anfield)\n",
      "\n",
      "Liverpool scored 24 goals.\n",
      "\n",
      "Opponents scored 9 goals.\n"
     ]
    }
   ],
   "source": [
    "#The function variables shall be entered as slices of the half time goal columns in the home df\n",
    "ht1 = home['HalfTimeHomeGoal']\n",
    "ht2 = home['HalfTimeAwayGoal']\n",
    "def htscores(x,y):\n",
    "    a = x.sum()\n",
    "    b = y.sum()\n",
    "    print(f'Liverpool scored {a} goals.')\n",
    "    print(f'\\nOpponents scored {b} goals.')\n",
    "print('By halftime, while playing at Home(Anfield)\\n')    \n",
    "htscores(ht1,ht2)"
   ]
  },
  {
   "cell_type": "code",
   "execution_count": 12,
   "id": "8068c419-b3f0-44fb-a17f-87f49f6df6d5",
   "metadata": {},
   "outputs": [],
   "source": [
    "#Graphical representation"
   ]
  },
  {
   "cell_type": "code",
   "execution_count": null,
   "id": "40d39758-9fb5-45af-8815-e4448db777de",
   "metadata": {},
   "outputs": [],
   "source": []
  },
  {
   "cell_type": "code",
   "execution_count": 70,
   "id": "1cb913ce-4e37-4bdc-ae89-1ff7d72ff1d7",
   "metadata": {},
   "outputs": [
    {
     "name": "stdout",
     "output_type": "stream",
     "text": [
      "By halftime, while playing away\n",
      "\n",
      "Opponents scored 11 goals.\n",
      "\n",
      "Liverpool scored 15 goals.\n"
     ]
    }
   ],
   "source": [
    "#The function variables shall be entered as slices of the half time goal columns in the away df\n",
    "at1 = away['HalfTimeHomeGoal']\n",
    "at2 = away['HalfTimeAwayGoal']\n",
    "def htscores(x,y):\n",
    "    a = x.sum()\n",
    "    b = y.sum()\n",
    "    print(f'Opponents scored {a} goals.')\n",
    "    print(f'\\nLiverpool scored {b} goals.')\n",
    "print('By halftime, while playing away\\n')    \n",
    "htscores(at1,at2)"
   ]
  },
  {
   "cell_type": "code",
   "execution_count": 14,
   "id": "9c0704b6-12f4-4b90-bedd-fa10f469106b",
   "metadata": {},
   "outputs": [],
   "source": [
    "#Graphical representation"
   ]
  },
  {
   "cell_type": "code",
   "execution_count": null,
   "id": "f8bdfe85-73e6-4c19-b0af-9a5664e50ecf",
   "metadata": {},
   "outputs": [],
   "source": []
  },
  {
   "cell_type": "code",
   "execution_count": 15,
   "id": "039ac961-8934-4499-8ff2-e759fe553b7d",
   "metadata": {},
   "outputs": [],
   "source": [
    "#Comparison representation"
   ]
  },
  {
   "cell_type": "code",
   "execution_count": null,
   "id": "4f672e2a-8b31-47d2-91fb-74ce4225b7e8",
   "metadata": {},
   "outputs": [],
   "source": []
  },
  {
   "cell_type": "markdown",
   "id": "bcac6a73-41d9-49b5-87b3-40345f2c83c6",
   "metadata": {},
   "source": [
    "iii. We shall perform an analysis on the shots made (home and away) Evelyn / Joy / Daniel"
   ]
  },
  {
   "cell_type": "code",
   "execution_count": 76,
   "id": "23152d6d-ad1d-4dc1-bc84-3097bd921061",
   "metadata": {},
   "outputs": [
    {
     "name": "stdout",
     "output_type": "stream",
     "text": [
      "While playing at Home(Anfield)\n",
      "\n",
      "Liverpool attempted 331 shots.\n",
      "\n",
      "Opponents attempted 141 shots.\n"
     ]
    }
   ],
   "source": [
    "#The function variables shall be entered as slices of the shots columns in the home df\n",
    "hs1 = home['HomeShots']\n",
    "hs2 = home['AwayShots']\n",
    "\n",
    "def hshots(x,y):\n",
    "    a = x.sum()\n",
    "    b = y.sum()\n",
    "    print(f'Liverpool attempted {a} shots.')\n",
    "    print(f'\\nOpponents attempted {b} shots.')\n",
    "print('While playing at Home(Anfield)\\n')\n",
    "hshots(hs1,hs2)\n",
    "    "
   ]
  },
  {
   "cell_type": "code",
   "execution_count": null,
   "id": "e4dcbb53-0a7f-434d-8261-9ac59c147a76",
   "metadata": {},
   "outputs": [],
   "source": [
    "#Graphical representation"
   ]
  },
  {
   "cell_type": "code",
   "execution_count": null,
   "id": "74a1bba9-8342-4313-bb37-e85ef32c26cf",
   "metadata": {},
   "outputs": [],
   "source": []
  },
  {
   "cell_type": "code",
   "execution_count": 77,
   "id": "71dbed1b-0ca4-4452-a10e-30f109a4a69d",
   "metadata": {},
   "outputs": [
    {
     "name": "stdout",
     "output_type": "stream",
     "text": [
      "While playing away\n",
      "\n",
      "Opponents attempted 166 shots.\n",
      "\n",
      "Liverpool attempted 307 shots away.\n"
     ]
    }
   ],
   "source": [
    "#The function variables shall be entered as slices of the shots columns in the away df\n",
    "as1 = away['HomeShots']\n",
    "as2 = away['AwayShots']\n",
    "\n",
    "def ashots(x,y):\n",
    "    a = x.sum()\n",
    "    b = y.sum()\n",
    "    print(f'Opponents attempted {a} shots.')\n",
    "    print(f'\\nLiverpool attempted {b} shots.')\n",
    "print('While playing away\\n')\n",
    "ashots(as1,as2)"
   ]
  },
  {
   "cell_type": "code",
   "execution_count": null,
   "id": "8b3c9e7a-1555-425b-8490-6e9f42ed2850",
   "metadata": {},
   "outputs": [],
   "source": [
    "#Graphical representation"
   ]
  },
  {
   "cell_type": "code",
   "execution_count": null,
   "id": "3a06338a-b76f-467f-a2c6-542e3d5f3ac7",
   "metadata": {},
   "outputs": [],
   "source": []
  },
  {
   "cell_type": "code",
   "execution_count": null,
   "id": "932d6c14-963f-4cd0-97bf-af95a469757a",
   "metadata": {},
   "outputs": [],
   "source": [
    "#Comparison representation"
   ]
  },
  {
   "cell_type": "code",
   "execution_count": null,
   "id": "52bd046d-c51e-4063-884b-108032184177",
   "metadata": {},
   "outputs": [],
   "source": []
  },
  {
   "cell_type": "markdown",
   "id": "da3cffa6-525b-4f10-8fa2-c1df4437fa3e",
   "metadata": {},
   "source": [
    "iv. We shall perform an analysis on the shots on target (home and away) Evelyn / Joy / Daniel"
   ]
  },
  {
   "cell_type": "code",
   "execution_count": 79,
   "id": "15dc3f09-1a8b-4ab4-a7f6-10fd9560351e",
   "metadata": {},
   "outputs": [
    {
     "name": "stdout",
     "output_type": "stream",
     "text": [
      "While playing at Home(Anfield)\n",
      "\n",
      "Liverpool managed to make 127 shots on target at Anfield.\n",
      "\n",
      "Opponents managed to make 45 shots on target at Anfield\n"
     ]
    }
   ],
   "source": [
    "#The function variables shall be entered as slices of the shots columns in the home df\n",
    "hst1 = home['HomeShotsTarget']\n",
    "hst2 = home['AwayShotsTarget']\n",
    "\n",
    "def htshots(x,y):\n",
    "    a = x.sum()\n",
    "    b = y.sum()\n",
    "    print(f'Liverpool managed to make {a} shots on target at Anfield.')\n",
    "    print(f'\\nOpponents managed to make {b} shots on target at Anfield')\n",
    "print('While playing at Home(Anfield)\\n')\n",
    "htshots(hst1,hst2)"
   ]
  },
  {
   "cell_type": "code",
   "execution_count": null,
   "id": "420a1db9-cba1-4215-93b4-c857faa3db76",
   "metadata": {},
   "outputs": [],
   "source": []
  },
  {
   "cell_type": "code",
   "execution_count": 81,
   "id": "65363aca-de2a-4c33-aa2d-4fe099f93408",
   "metadata": {},
   "outputs": [
    {
     "name": "stdout",
     "output_type": "stream",
     "text": [
      "While playing away\n",
      "\n",
      "Opponents managed to make 69 shots on target.\n",
      "\n",
      "Liverpool managed to make 109 shots on target.\n"
     ]
    }
   ],
   "source": [
    "#The function variables shall be entered as slices of the shots columns in the away df\n",
    "ast1 = away['HomeShotsTarget']\n",
    "ast2 = away['AwayShotsTarget']\n",
    "\n",
    "def atshots(x,y):\n",
    "    a = x.sum()\n",
    "    b = y.sum()\n",
    "    print(f'Opponents managed to make {a} shots on target.')\n",
    "    print(f'\\nLiverpool managed to make {b} shots on target.')\n",
    "print('While playing away\\n')\n",
    "atshots(ast1,ast2)"
   ]
  },
  {
   "cell_type": "code",
   "execution_count": null,
   "id": "88dfdad6-32e4-48f3-97af-3cac3688e01f",
   "metadata": {},
   "outputs": [],
   "source": []
  },
  {
   "cell_type": "markdown",
   "id": "8d759c2c-d142-4b77-81c5-5ccda26a048e",
   "metadata": {},
   "source": [
    "v. We shall perform an analysis on the half time result and full time result Daniel / Brian / Evelyn"
   ]
  },
  {
   "cell_type": "code",
   "execution_count": 38,
   "id": "4e8ee3a6-2129-4924-a661-c3a911717749",
   "metadata": {},
   "outputs": [
    {
     "name": "stdout",
     "output_type": "stream",
     "text": [
      "While playing at Home(Anfield)\n",
      "H - Home, D - Draw, A - Away\n",
      "The halftime results were as follows HalfTimeResult\n",
      "H    10\n",
      "D     7\n",
      "A     2\n",
      "Name: count, dtype: int64.\n",
      "\n",
      "The full time results were as follows FullTimeResult\n",
      "H    12\n",
      "D     5\n",
      "A     2\n",
      "Name: count, dtype: int64.\n"
     ]
    }
   ],
   "source": [
    "#The function variables shall be entered as slices of the shots columns in the home df\n",
    "hr1 = home['HalfTimeResult']\n",
    "fr2 = home['FullTimeResult']\n",
    "print('While playing at Home(Anfield)')\n",
    "def hhtftr(x,y):\n",
    "   \n",
    "    a = x.value_counts()\n",
    "    b = y.value_counts()\n",
    "    print(f'The halftime results were as follows {a}.')\n",
    "    print(f'\\nThe full time results were as follows {b}.')\n",
    "\n",
    "print('H - Home(Liverpool), D - Draw, A - Away')\n",
    "htftr(hr1,fr2)"
   ]
  },
  {
   "cell_type": "code",
   "execution_count": null,
   "id": "e3c7d4db-3df6-4ef9-947c-329a337eb02d",
   "metadata": {},
   "outputs": [],
   "source": [
    "#Graphical representation"
   ]
  },
  {
   "cell_type": "code",
   "execution_count": null,
   "id": "f6ee7098-1459-4add-b995-ddf537592c4f",
   "metadata": {},
   "outputs": [],
   "source": []
  },
  {
   "cell_type": "code",
   "execution_count": 40,
   "id": "85be5128-c347-43f8-b12a-f631f3b9aa81",
   "metadata": {},
   "outputs": [
    {
     "name": "stdout",
     "output_type": "stream",
     "text": [
      "While playing away\n",
      "H - Home, D - Draw, A - Away(Liverpool)\n",
      "The halftime results were as follows HalfTimeResult\n",
      "A    9\n",
      "D    5\n",
      "H    5\n",
      "Name: count, dtype: int64.\n",
      "\n",
      "The full time results were as follows FullTimeResult\n",
      "A    10\n",
      "D     5\n",
      "H     4\n",
      "Name: count, dtype: int64.\n"
     ]
    }
   ],
   "source": [
    "#The function variables shall be entered as slices of the shots columns in the away df\n",
    "hr1 = away['HalfTimeResult']\n",
    "fr2 = away['FullTimeResult']\n",
    "print('While playing away')\n",
    "def ahtftr(x,y):\n",
    "   \n",
    "    a = x.value_counts()\n",
    "    b = y.value_counts()\n",
    "    print(f'The halftime results were as follows {a}.')\n",
    "    print(f'\\nThe full time results were as follows {b}.')\n",
    "\n",
    "print('H - Home, D - Draw, A - Away(Liverpool)')\n",
    "ahtftr(hr1,fr2)"
   ]
  },
  {
   "cell_type": "code",
   "execution_count": null,
   "id": "f72df320-41fb-407b-aaec-70dbd3b308c8",
   "metadata": {},
   "outputs": [],
   "source": [
    "#Graphical representation"
   ]
  },
  {
   "cell_type": "markdown",
   "id": "10a24ea2-cff7-4f93-95f6-8d53c4ec7fcf",
   "metadata": {},
   "source": [
    "For further analysis, Viaualizations will need to be carried out for;\n",
    "1. Shots vs Shots on Traget(Home, Away)\n",
    "2. Shots on Target vs Fulltime Goals(Home,Away)\n",
    "3. Referee and foul score(data set to be included with these variables)\n",
    "4. Perfomance plotted with teams."
   ]
  },
  {
   "cell_type": "code",
   "execution_count": null,
   "id": "35609455-3f77-48c3-abb8-82e69a11cc46",
   "metadata": {},
   "outputs": [],
   "source": []
  }
 ],
 "metadata": {
  "kernelspec": {
   "display_name": "Python 3",
   "language": "python",
   "name": "python3"
  },
  "language_info": {
   "codemirror_mode": {
    "name": "ipython",
    "version": 3
   },
   "file_extension": ".py",
   "mimetype": "text/x-python",
   "name": "python",
   "nbconvert_exporter": "python",
   "pygments_lexer": "ipython3",
   "version": "3.12.4"
  }
 },
 "nbformat": 4,
 "nbformat_minor": 5
}
