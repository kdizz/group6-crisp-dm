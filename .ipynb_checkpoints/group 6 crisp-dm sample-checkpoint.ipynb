{
 "cells": [
  {
   "cell_type": "markdown",
   "id": "98bc0ff7-43d5-4475-bded-d61419fbc348",
   "metadata": {},
   "source": [
    "###We first start by importing the necessary packages"
   ]
  },
  {
   "cell_type": "code",
   "execution_count": 1,
   "id": "3cb442d6-21f8-41e9-848e-11fe21f92b10",
   "metadata": {},
   "outputs": [],
   "source": [
    "import pandas as pd\n",
    "import numpy as np\n",
    "import matplotlib.pyplot as plt\n",
    "import seaborn as sns"
   ]
  },
  {
   "cell_type": "markdown",
   "id": "fae4548d-5bca-4df8-8d28-b81ec09b1da0",
   "metadata": {},
   "source": [
    "###We then load up our CSV"
   ]
  },
  {
   "cell_type": "code",
   "execution_count": 2,
   "id": "9446c7c8-75e1-4842-8fb8-9f5215ccd0f3",
   "metadata": {},
   "outputs": [],
   "source": [
    "df = pd.read_csv('group 6 epl.csv')"
   ]
  },
  {
   "cell_type": "markdown",
   "id": "89028da9-60f1-48a8-ba90-db8a38d8a100",
   "metadata": {},
   "source": [
    "###The business case is to check to see liverpool's performance at home vs away in the 2016/17 epl season"
   ]
  },
  {
   "cell_type": "markdown",
   "id": "a812554e-841e-4093-874d-8e15de240afb",
   "metadata": {},
   "source": [
    "We know would like to get some info on the columns"
   ]
  },
  {
   "cell_type": "code",
   "execution_count": 3,
   "id": "ba944857-4d38-4333-98c0-5912ccfbbf55",
   "metadata": {},
   "outputs": [
    {
     "name": "stdout",
     "output_type": "stream",
     "text": [
      "<class 'pandas.core.frame.DataFrame'>\n",
      "RangeIndex: 380 entries, 0 to 379\n",
      "Data columns (total 15 columns):\n",
      " #   Column            Non-Null Count  Dtype \n",
      "---  ------            --------------  ----- \n",
      " 0   Div               380 non-null    object\n",
      " 1   Date              380 non-null    object\n",
      " 2   HomeTeam          380 non-null    object\n",
      " 3   AwayTeam          380 non-null    object\n",
      " 4   FullTimeHomeGoal  380 non-null    int64 \n",
      " 5   FullTimeAwayGoal  380 non-null    int64 \n",
      " 6   FullTimeResult    380 non-null    object\n",
      " 7   HalfTimeHomeGoal  380 non-null    int64 \n",
      " 8   HalfTimeAwayGoal  380 non-null    int64 \n",
      " 9   HalfTimeResult    380 non-null    object\n",
      " 10  Referee           380 non-null    object\n",
      " 11  HomeShots         380 non-null    int64 \n",
      " 12  AwayShots         380 non-null    int64 \n",
      " 13  HomeShotsTarget   380 non-null    int64 \n",
      " 14  AwayShotsTarget   380 non-null    int64 \n",
      "dtypes: int64(8), object(7)\n",
      "memory usage: 44.7+ KB\n"
     ]
    }
   ],
   "source": [
    "df.info()"
   ]
  },
  {
   "cell_type": "code",
   "execution_count": null,
   "id": "3e31cdce-b916-4f1d-bbd7-ec1a6611dae4",
   "metadata": {},
   "outputs": [],
   "source": [
    "We shall then filter out the games where liverpool played at home"
   ]
  },
  {
   "cell_type": "code",
   "execution_count": null,
   "id": "4f0c0967-dbc7-417c-883b-f12c4e4ab46e",
   "metadata": {},
   "outputs": [],
   "source": []
  }
 ],
 "metadata": {
  "kernelspec": {
   "display_name": "Python 3",
   "language": "python",
   "name": "python3"
  },
  "language_info": {
   "codemirror_mode": {
    "name": "ipython",
    "version": 3
   },
   "file_extension": ".py",
   "mimetype": "text/x-python",
   "name": "python",
   "nbconvert_exporter": "python",
   "pygments_lexer": "ipython3",
   "version": "3.12.4"
  }
 },
 "nbformat": 4,
 "nbformat_minor": 5
}
