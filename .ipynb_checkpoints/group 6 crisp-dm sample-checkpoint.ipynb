{
 "cells": [
  {
   "cell_type": "markdown",
   "id": "98bc0ff7-43d5-4475-bded-d61419fbc348",
   "metadata": {},
   "source": [
    "###We first start by importing the necessary packages"
   ]
  },
  {
   "cell_type": "code",
   "execution_count": 3,
   "id": "3cb442d6-21f8-41e9-848e-11fe21f92b10",
   "metadata": {},
   "outputs": [],
   "source": [
    "import pandas as pd\n",
    "import numpy as np\n",
    "import matplotlib.pyplot as plt\n",
    "import seaborn as sns"
   ]
  },
  {
   "cell_type": "markdown",
   "id": "fae4548d-5bca-4df8-8d28-b81ec09b1da0",
   "metadata": {},
   "source": [
    "###We then load up our CSV"
   ]
  },
  {
   "cell_type": "code",
   "execution_count": 4,
   "id": "9446c7c8-75e1-4842-8fb8-9f5215ccd0f3",
   "metadata": {},
   "outputs": [],
   "source": [
    "df = pd.read_csv('group 6 epl.csv')"
   ]
  },
  {
   "cell_type": "markdown",
   "id": "89028da9-60f1-48a8-ba90-db8a38d8a100",
   "metadata": {},
   "source": [
    "###The business case is to check to see liverpool's performance at home vs away in the 2016/17 epl season"
   ]
  },
  {
   "cell_type": "markdown",
   "id": "a812554e-841e-4093-874d-8e15de240afb",
   "metadata": {},
   "source": [
    "We know would like to get some info on the columns"
   ]
  },
  {
   "cell_type": "code",
   "execution_count": 5,
   "id": "ba944857-4d38-4333-98c0-5912ccfbbf55",
   "metadata": {},
   "outputs": [
    {
     "name": "stdout",
     "output_type": "stream",
     "text": [
      "<class 'pandas.core.frame.DataFrame'>\n",
      "RangeIndex: 380 entries, 0 to 379\n",
      "Data columns (total 15 columns):\n",
      " #   Column            Non-Null Count  Dtype \n",
      "---  ------            --------------  ----- \n",
      " 0   Div               380 non-null    object\n",
      " 1   Date              380 non-null    object\n",
      " 2   HomeTeam          380 non-null    object\n",
      " 3   AwayTeam          380 non-null    object\n",
      " 4   FullTimeHomeGoal  380 non-null    int64 \n",
      " 5   FullTimeAwayGoal  380 non-null    int64 \n",
      " 6   FullTimeResult    380 non-null    object\n",
      " 7   HalfTimeHomeGoal  380 non-null    int64 \n",
      " 8   HalfTimeAwayGoal  380 non-null    int64 \n",
      " 9   HalfTimeResult    380 non-null    object\n",
      " 10  Referee           380 non-null    object\n",
      " 11  HomeShots         380 non-null    int64 \n",
      " 12  AwayShots         380 non-null    int64 \n",
      " 13  HomeShotsTarget   380 non-null    int64 \n",
      " 14  AwayShotsTarget   380 non-null    int64 \n",
      "dtypes: int64(8), object(7)\n",
      "memory usage: 44.7+ KB\n"
     ]
    }
   ],
   "source": [
    "df.info()"
   ]
  },
  {
   "cell_type": "code",
   "execution_count": null,
   "id": "3e31cdce-b916-4f1d-bbd7-ec1a6611dae4",
   "metadata": {},
   "outputs": [],
   "source": [
    "We shall then filter out the games where liverpool played at home into a variable called home"
   ]
  },
  {
   "cell_type": "code",
   "execution_count": 10,
   "id": "4f0c0967-dbc7-417c-883b-f12c4e4ab46e",
   "metadata": {},
   "outputs": [
    {
     "data": {
      "text/plain": [
       "19"
      ]
     },
     "execution_count": 10,
     "metadata": {},
     "output_type": "execute_result"
    }
   ],
   "source": [
    "home = df[df['HomeTeam']=='Liverpool']\n",
    "home.head()"
   ]
  },
  {
   "cell_type": "markdown",
   "id": "d27c69db-7679-4cd2-9577-b4e69964ab72",
   "metadata": {},
   "source": [
    "###We shall also filter out Liverpool's away games into a variable called away"
   ]
  },
  {
   "cell_type": "code",
   "execution_count": 9,
   "id": "f6d89ad4-07f2-42e4-95b4-3dac0ad8469e",
   "metadata": {},
   "outputs": [
    {
     "data": {
      "text/html": [
       "<div>\n",
       "<style scoped>\n",
       "    .dataframe tbody tr th:only-of-type {\n",
       "        vertical-align: middle;\n",
       "    }\n",
       "\n",
       "    .dataframe tbody tr th {\n",
       "        vertical-align: top;\n",
       "    }\n",
       "\n",
       "    .dataframe thead th {\n",
       "        text-align: right;\n",
       "    }\n",
       "</style>\n",
       "<table border=\"1\" class=\"dataframe\">\n",
       "  <thead>\n",
       "    <tr style=\"text-align: right;\">\n",
       "      <th></th>\n",
       "      <th>Div</th>\n",
       "      <th>Date</th>\n",
       "      <th>HomeTeam</th>\n",
       "      <th>AwayTeam</th>\n",
       "      <th>FullTimeHomeGoal</th>\n",
       "      <th>FullTimeAwayGoal</th>\n",
       "      <th>FullTimeResult</th>\n",
       "      <th>HalfTimeHomeGoal</th>\n",
       "      <th>HalfTimeAwayGoal</th>\n",
       "      <th>HalfTimeResult</th>\n",
       "      <th>Referee</th>\n",
       "      <th>HomeShots</th>\n",
       "      <th>AwayShots</th>\n",
       "      <th>HomeShotsTarget</th>\n",
       "      <th>AwayShotsTarget</th>\n",
       "    </tr>\n",
       "  </thead>\n",
       "  <tbody>\n",
       "    <tr>\n",
       "      <th>7</th>\n",
       "      <td>E0</td>\n",
       "      <td>14 08 2016</td>\n",
       "      <td>Arsenal</td>\n",
       "      <td>Liverpool</td>\n",
       "      <td>3</td>\n",
       "      <td>4</td>\n",
       "      <td>A</td>\n",
       "      <td>1</td>\n",
       "      <td>1</td>\n",
       "      <td>D</td>\n",
       "      <td>M Oliver</td>\n",
       "      <td>9</td>\n",
       "      <td>16</td>\n",
       "      <td>5</td>\n",
       "      <td>7</td>\n",
       "    </tr>\n",
       "    <tr>\n",
       "      <th>11</th>\n",
       "      <td>E0</td>\n",
       "      <td>20 08 2016</td>\n",
       "      <td>Burnley</td>\n",
       "      <td>Liverpool</td>\n",
       "      <td>2</td>\n",
       "      <td>0</td>\n",
       "      <td>H</td>\n",
       "      <td>2</td>\n",
       "      <td>0</td>\n",
       "      <td>H</td>\n",
       "      <td>L Mason</td>\n",
       "      <td>3</td>\n",
       "      <td>26</td>\n",
       "      <td>2</td>\n",
       "      <td>5</td>\n",
       "    </tr>\n",
       "    <tr>\n",
       "      <th>26</th>\n",
       "      <td>E0</td>\n",
       "      <td>27 08 2016</td>\n",
       "      <td>Tottenham</td>\n",
       "      <td>Liverpool</td>\n",
       "      <td>1</td>\n",
       "      <td>1</td>\n",
       "      <td>D</td>\n",
       "      <td>0</td>\n",
       "      <td>1</td>\n",
       "      <td>A</td>\n",
       "      <td>R Madley</td>\n",
       "      <td>11</td>\n",
       "      <td>13</td>\n",
       "      <td>4</td>\n",
       "      <td>3</td>\n",
       "    </tr>\n",
       "    <tr>\n",
       "      <th>40</th>\n",
       "      <td>E0</td>\n",
       "      <td>16 09 2016</td>\n",
       "      <td>Chelsea</td>\n",
       "      <td>Liverpool</td>\n",
       "      <td>1</td>\n",
       "      <td>2</td>\n",
       "      <td>A</td>\n",
       "      <td>0</td>\n",
       "      <td>2</td>\n",
       "      <td>A</td>\n",
       "      <td>M Atkinson</td>\n",
       "      <td>12</td>\n",
       "      <td>13</td>\n",
       "      <td>4</td>\n",
       "      <td>5</td>\n",
       "    </tr>\n",
       "    <tr>\n",
       "      <th>63</th>\n",
       "      <td>E0</td>\n",
       "      <td>1 10 2016</td>\n",
       "      <td>Swansea</td>\n",
       "      <td>Liverpool</td>\n",
       "      <td>1</td>\n",
       "      <td>2</td>\n",
       "      <td>A</td>\n",
       "      <td>1</td>\n",
       "      <td>0</td>\n",
       "      <td>H</td>\n",
       "      <td>M Oliver</td>\n",
       "      <td>8</td>\n",
       "      <td>18</td>\n",
       "      <td>3</td>\n",
       "      <td>6</td>\n",
       "    </tr>\n",
       "  </tbody>\n",
       "</table>\n",
       "</div>"
      ],
      "text/plain": [
       "   Div        Date   HomeTeam   AwayTeam  FullTimeHomeGoal  FullTimeAwayGoal  \\\n",
       "7   E0  14 08 2016    Arsenal  Liverpool                 3                 4   \n",
       "11  E0  20 08 2016    Burnley  Liverpool                 2                 0   \n",
       "26  E0  27 08 2016  Tottenham  Liverpool                 1                 1   \n",
       "40  E0  16 09 2016    Chelsea  Liverpool                 1                 2   \n",
       "63  E0   1 10 2016    Swansea  Liverpool                 1                 2   \n",
       "\n",
       "   FullTimeResult  HalfTimeHomeGoal  HalfTimeAwayGoal HalfTimeResult  \\\n",
       "7               A                 1                 1              D   \n",
       "11              H                 2                 0              H   \n",
       "26              D                 0                 1              A   \n",
       "40              A                 0                 2              A   \n",
       "63              A                 1                 0              H   \n",
       "\n",
       "       Referee  HomeShots  AwayShots  HomeShotsTarget  AwayShotsTarget  \n",
       "7     M Oliver          9         16                5                7  \n",
       "11     L Mason          3         26                2                5  \n",
       "26    R Madley         11         13                4                3  \n",
       "40  M Atkinson         12         13                4                5  \n",
       "63    M Oliver          8         18                3                6  "
      ]
     },
     "execution_count": 9,
     "metadata": {},
     "output_type": "execute_result"
    }
   ],
   "source": [
    "away = df[df['AwayTeam']=='Liverpool']\n",
    "away.head()"
   ]
  },
  {
   "cell_type": "code",
   "execution_count": null,
   "id": "94fc2b66-5786-43c8-8be1-2c35077e6a7b",
   "metadata": {},
   "outputs": [],
   "source": []
  }
 ],
 "metadata": {
  "kernelspec": {
   "display_name": "Python 3",
   "language": "python",
   "name": "python3"
  },
  "language_info": {
   "codemirror_mode": {
    "name": "ipython",
    "version": 3
   },
   "file_extension": ".py",
   "mimetype": "text/x-python",
   "name": "python",
   "nbconvert_exporter": "python",
   "pygments_lexer": "ipython3",
   "version": "3.12.4"
  }
 },
 "nbformat": 4,
 "nbformat_minor": 5
}
