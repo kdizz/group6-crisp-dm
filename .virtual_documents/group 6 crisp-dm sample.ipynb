


import pandas as pd
import numpy as np
import matplotlib.pyplot as plt
import seaborn as sns
%matplotlib inline





df = pd.read_csv('group 6 epl.csv')








df.info()





home = df[df['HomeTeam']=='Liverpool']
print(f'Liverpool played {len(home)} games at home \n See the first five')
home.head()





away = df[df['AwayTeam']=='Liverpool']
print(f'Liverpool played {len(away)} games away \n See the first five')
away.head()











#The function variables shall be entered as slices of the full time goal columns in the home df
hg1 = home['FullTimeHomeGoal']
hg2 = home['FullTimeAwayGoal']
def ftscores(x,y):
    a = x.sum()
    b = y.sum()
    print(f'Liverpool scored {a} goals.')
    print(f'\nOpponents scored {b} goals.')
print('While playing at Home (Anfield)\n')    
ftscores(hg1,hg2)


#Graphical Representation











#The function variables shall be entered as slices of the full time goal columns in the away df
ag1 = away['FullTimeHomeGoal']
ag2 = away['FullTimeAwayGoal']
def ftscores(x,y):
    a = x.sum()
    b = y.sum()
    print(f'Opponents scored {a} goals.')
    print(f'\nLiverpool scored {b} goals.')
print('While playing away\n')    
ftscores(ag1,ag2)


#Graphical representation





#Comparison representation.








#The function variables shall be entered as slices of the half time goal columns in the home df
ht1 = home['HalfTimeHomeGoal']
ht2 = home['HalfTimeAwayGoal']
def htscores(x,y):
    a = x.sum()
    b = y.sum()
    print(f'Liverpool scored {a} goals.')
    print(f'\nOpponents scored {b} goals.')
print('By halftime, while playing at Home(Anfield)\n')    
htscores(ht1,ht2)


#Graphical representation





#The function variables shall be entered as slices of the half time goal columns in the away df
at1 = away['HalfTimeHomeGoal']
at2 = away['HalfTimeAwayGoal']
def htscores(x,y):
    a = x.sum()
    b = y.sum()
    print(f'Opponents scored {a} goals.')
    print(f'\nLiverpool scored {b} goals.')
print('By halftime, while playing away\n')    
htscores(at1,at2)


#Graphical representation





#Comparison representation








#The function variables shall be entered as slices of the shots columns in the home df
hs1 = home['HomeShots']
hs2 = home['AwayShots']

def hshots(x,y):
    a = x.sum()
    b = y.sum()
    print(f'Liverpool attempted {a} shots.')
    print(f'\nOpponents attempted {b} shots.')
print('While playing at Home(Anfield)\n')
hshots(hs1,hs2)
    


#Graphical representation





#The function variables shall be entered as slices of the shots columns in the away df
as1 = away['HomeShots']
as2 = away['AwayShots']

def ashots(x,y):
    a = x.sum()
    b = y.sum()
    print(f'Opponents attempted {a} shots.')
    print(f'\nLiverpool attempted {b} shots.')
print('While playing away\n')
ashots(as1,as2)


#Graphical representation





#Comparison representation








#The function variables shall be entered as slices of the shots columns in the home df
hst1 = home['HomeShotsTarget']
hst2 = home['AwayShotsTarget']

def htshots(x,y):
    a = x.sum()
    b = y.sum()
    print(f'Liverpool managed to make {a} shots on target at Anfield.')
    print(f'\nOpponents managed to make {b} shots on target at Anfield')
print('While playing at Home(Anfield)\n')
htshots(hst1,hst2)





#The function variables shall be entered as slices of the shots columns in the away df
ast1 = away['HomeShotsTarget']
ast2 = away['AwayShotsTarget']

def atshots(x,y):
    a = x.sum()
    b = y.sum()
    print(f'Opponents managed to make {a} shots on target.')
    print(f'\nLiverpool managed to make {b} shots on target.')
print('While playing away\n')
atshots(ast1,ast2)








#The function variables shall be entered as slices of the shots columns in the home df
hr1 = home['HalfTimeResult']
fr2 = home['FullTimeResult']
print('While playing at Home(Anfield)')
def hhtftr(x,y):
   
    a = x.value_counts()
    b = y.value_counts()
    print(f'The halftime results were as follows {a}.')
    print(f'\nThe full time results were as follows {b}.')

print('H - Home(Liverpool), D - Draw, A - Away')
htftr(hr1,fr2)


#Graphical representation





#The function variables shall be entered as slices of the shots columns in the away df
hr1 = away['HalfTimeResult']
fr2 = away['FullTimeResult']
print('While playing away')
def ahtftr(x,y):
   
    a = x.value_counts()
    b = y.value_counts()
    print(f'The halftime results were as follows {a}.')
    print(f'\nThe full time results were as follows {b}.')

print('H - Home, D - Draw, A - Away(Liverpool)')
ahtftr(hr1,fr2)


#Graphical representation



