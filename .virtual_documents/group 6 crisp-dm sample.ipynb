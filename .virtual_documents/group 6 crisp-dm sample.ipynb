


import pandas as pd
import numpy as np
import matplotlib.pyplot as plt
import seaborn as sns





df = pd.read_csv('group 6 epl.csv')








df.info()





home = df[df['HomeTeam']=='Liverpool']
print(f'Liverpool played {len(home)} games at home \n See the first five')
home.head()





away = df[df['AwayTeam']=='Liverpool']
print(f'Liverpool played {len(away)} games away \n See the first five')
away.head()











#The function variables shall be entered as slices of the full time goal columns in the home df
h1 = home['FullTimeHomeGoal']
h2 = home['FullTimeAwayGoal']
def ftscores(x,y):
    a = x.sum()
    b = y.sum()
    print(f'Liverpool scored {a} goals at Anfield.')
    print(f'\nLiverpool conceded {b} goals at Anfield')
    
ftscores(h1,h2)


#Graphical Representation





#The function variables shall be entered as slices of the full time goal columns in the away df
a1 = away['FullTimeHomeGoal']
a2 = away['FullTimeAwayGoal']
def ftscores(x,y):
    a = x.sum()
    b = y.sum()
    print(f'Liverpool conceded {a} goals away.')
    print(f'\nLiverpool scored {b} goals away')
    
ftscores(a1,a2)


#Graphical representation





#Comparison representation.








#The function variables shall be entered as slices of the half time goal columns in the home df
h1 = home['HalfTimeHomeGoal']
h2 = home['HalfTimeAwayGoal']
def htscores(x,y):
    a = x.sum()
    b = y.sum()
    print(f'Liverpool scored {a} goals by half time at Anfield.')
    print(f'\nLiverpool conceded {b} goals by half at Anfield')
    
htscores(h1,h2)


#Graphical representation





#The function variables shall be entered as slices of the full time goal columns in the away df
a1 = away['HalfTimeHomeGoal']
a2 = away['HalfTimeAwayGoal']
def htscores(x,y):
    a = x.sum()
    b = y.sum()
    print(f'Liverpool conceded {a} goals by halftime playing away.')
    print(f'\nLiverpool scored {b} goals by halftime playing away')
    
htscores(a1,a2)


#Graphical representation





#Comparison representation
















































