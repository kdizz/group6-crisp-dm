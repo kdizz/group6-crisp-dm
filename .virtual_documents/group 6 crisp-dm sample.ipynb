


import pandas as pd
import numpy as np
import matplotlib.pyplot as plt
import seaborn as sns





df = pd.read_csv('group 6 epl.csv')








df.info()





home = df[df['HomeTeam']=='Liverpool']
print(f'Liverpool played {len(home)} games at home \n See the first five')
home.head()





away = df[df['AwayTeam']=='Liverpool']
print(f'Liverpool played {len(away)} games away \n See the first five')
away.head()





















