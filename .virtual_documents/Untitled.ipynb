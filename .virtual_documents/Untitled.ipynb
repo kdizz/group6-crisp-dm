


import pandas as pd
import numpy as np
import matplotlib.pyplot as plt
import seaborn as sns





df = pd.read_csv('group 6 epl.csv')








df.info()


We shall then filter out the games where liverpool played at home



